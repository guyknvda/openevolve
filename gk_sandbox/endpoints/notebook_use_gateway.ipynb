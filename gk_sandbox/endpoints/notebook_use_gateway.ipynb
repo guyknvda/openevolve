{
 "cells": [
  {
   "cell_type": "code",
   "execution_count": null,
   "metadata": {},
   "outputs": [],
   "source": [
    "from dotenv import load_dotenv\n",
    "import os\n",
    "\n",
    "# Load environment variables from .env file (use .env.example as template)\n",
    "load_dotenv(os.path.abspath(os.path.join(os.getcwd(), \"../.env\")))\n",
    "\n",
    "# print gateway related env variables\n",
    "print(os.getenv(\"OPENAI_API_VERSION\"))\n",
    "print(os.getenv(\"AZURE_OPENAI_ENDPOINT\"))\n",
    "print(os.getenv(\"AZURE_OPENAI_API_KEY\"))\n",
    "\n",
    "# some imports\n",
    "from langchain_openai import AzureChatOpenAI, AzureOpenAIEmbeddings\n",
    "from openai import AsyncAzureOpenAI, AzureOpenAI\n",
    "\n",
    "# list of available models\n",
    "available_models = [\n",
    "    \"claude-3-7-sonnet-20250219\",\n",
    "    \"claude-3-5-sonnet-20241022\", \n",
    "    \"gpt-4o-20241120\",\n",
    "    \"gpt-4o-mini-20240718\",\n",
    "    \"o1-20241217\", \n",
    "    \"o1-mini-20240912\",\n",
    "    \"o3-mini-20250131\"\n",
    "]"
   ]
  },
  {
   "cell_type": "markdown",
   "metadata": {},
   "source": [
    "# run chat models"
   ]
  },
  {
   "cell_type": "code",
   "execution_count": null,
   "metadata": {},
   "outputs": [],
   "source": [
    "for model_name in available_models:\n",
    "    print(f\"Testing model: {model_name}\")\n",
    "    model = AzureChatOpenAI(model=model_name, temperature=0.6 if not model_name.startswith(\"o\") else 1)\n",
    "    model.invoke(\"Hello, world!\")"
   ]
  },
  {
   "cell_type": "markdown",
   "metadata": {},
   "source": [
    "# o3-mini with reasoning"
   ]
  },
  {
   "cell_type": "code",
   "execution_count": null,
   "metadata": {},
   "outputs": [],
   "source": [
    "model = AzureChatOpenAI(model=\"o3-mini-20250131\", \n",
    "                        temperature=1, \n",
    "                        reasoning_effort=\"medium\" # \"low\", \"medium\", \"high\"\n",
    "                        )\n",
    "res = model.invoke(\"Hello, world!\")\n",
    "\n",
    "print(f\"Response:\\n{res.content}\\n\")\n",
    "print(f\"Reasoning tokens:\\n{res.response_metadata['token_usage']['completion_tokens_details']['reasoning_tokens']}\")"
   ]
  },
  {
   "cell_type": "markdown",
   "metadata": {},
   "source": [
    "# claude-3-7-sonnet with reasoning"
   ]
  },
  {
   "cell_type": "markdown",
   "metadata": {},
   "source": [
    "## using completaion API"
   ]
  },
  {
   "cell_type": "code",
   "execution_count": null,
   "metadata": {},
   "outputs": [],
   "source": [
    "client = AzureOpenAI()\n",
    "chat_completion = client.chat.completions.create(\n",
    "    model=\"claude-3-7-sonnet-20250219\", # model = \"deployment_name\".\n",
    "    messages=[{\"role\": \"user\", \"content\": [{\"type\": \"text\", \"text\": \"Explain what is GPT\"}]}],\n",
    "    extra_body={\n",
    "        \"thinking\": {\n",
    "            \"type\": \"enabled\",\n",
    "            \"budget_tokens\": 8000 # Must be higher than 1024\n",
    "        }\n",
    "    },\n",
    "    max_tokens=15000 # Must be higher than the budget_tokens\n",
    ")\n",
    "\n",
    "\n",
    "reasoning_content = chat_completion.choices[0].message.model_extra['reasoning_content']\n",
    "response_content = chat_completion.choices[0].message.content\n",
    "\n",
    "print(\"\\n\\n\")\n",
    "print(\"*\"*100 + \"\\nReasoning:\\n\" + \"*\"*100 + \"\\n\")\n",
    "print(reasoning_content)\n",
    "print(\"*\"*100 + \"\\nResponse:\\n\" + \"*\"*100 + \"\\n\")\n",
    "print(response_content)"
   ]
  },
  {
   "cell_type": "markdown",
   "metadata": {},
   "source": [
    "## using completaion Async API"
   ]
  },
  {
   "cell_type": "code",
   "execution_count": null,
   "metadata": {},
   "outputs": [],
   "source": [
    "# Async version\n",
    "async def get_completion():\n",
    "    async_client = AsyncAzureOpenAI()\n",
    "    \n",
    "    chat_completion = await async_client.chat.completions.create(\n",
    "        model=\"claude-3-7-sonnet-20250219\",\n",
    "        messages=[{\"role\": \"user\", \"content\": [{\"type\": \"text\", \"text\": \"Explain what is GPT\"}]}],\n",
    "        extra_body={\n",
    "            \"thinking\": {\n",
    "                \"type\": \"enabled\", \n",
    "                \"budget_tokens\": 8000\n",
    "            }\n",
    "        },\n",
    "        max_tokens=15000,\n",
    "        stream=True # Enable streaming\n",
    "    )\n",
    "\n",
    "\n",
    "    print(\"\\nStreaming response:\")\n",
    "    # Track reasoning content and response content separately\n",
    "    reasoning_content = \"\"\n",
    "    response_content = \"\"\n",
    "    \n",
    "    async for chunk in chat_completion:\n",
    "        # Check for reasoning content in model_extra\n",
    "        if chunk.choices[0].delta.model_extra and 'reasoning_content' in chunk.choices[0].delta.model_extra:\n",
    "            reasoning = chunk.choices[0].delta.model_extra['reasoning_content']\n",
    "            reasoning_content += reasoning\n",
    "            print(f\"{reasoning}\", end=\"\", flush=True)\n",
    "        \n",
    "        # Check for regular content\n",
    "        if chunk.choices[0].delta.content:\n",
    "            content = chunk.choices[0].delta.content\n",
    "            response_content += content\n",
    "            print(content, end=\"\", flush=True)\n",
    "    \n",
    "    print(\"\\n\\n\")\n",
    "    print(\"*\"*100 + \"\\nReasoning:\\n\" + \"*\"*100 + \"\\n\")\n",
    "    print(reasoning_content)\n",
    "    print(\"*\"*100 + \"\\nResponse:\\n\" + \"*\"*100 + \"\\n\")\n",
    "    print(response_content)\n",
    "\n",
    "await get_completion()"
   ]
  },
  {
   "cell_type": "markdown",
   "metadata": {},
   "source": [
    "## using Chat API"
   ]
  },
  {
   "cell_type": "code",
   "execution_count": null,
   "metadata": {},
   "outputs": [],
   "source": [
    "# using chat model\n",
    "llm = AzureChatOpenAI(\n",
    "    model=\"claude-3-7-sonnet-20250219\",\n",
    "     extra_body={\n",
    "            \"thinking\": {\n",
    "                \"type\": \"enabled\", \n",
    "                \"budget_tokens\": 8000\n",
    "            }\n",
    "        },\n",
    "        max_tokens=15000\n",
    "    )\n",
    "\n",
    "# response = await llm.ainvoke(\"Explain what is GPT\")\n",
    "response = llm.invoke(\"Explain what is GPT\")\n",
    "print(response.content)"
   ]
  }
 ],
 "metadata": {
  "kernelspec": {
   "display_name": ".venv",
   "language": "python",
   "name": "python3"
  },
  "language_info": {
   "codemirror_mode": {
    "name": "ipython",
    "version": 3
   },
   "file_extension": ".py",
   "mimetype": "text/x-python",
   "name": "python",
   "nbconvert_exporter": "python",
   "pygments_lexer": "ipython3",
   "version": "3.10.12"
  }
 },
 "nbformat": 4,
 "nbformat_minor": 2
}
